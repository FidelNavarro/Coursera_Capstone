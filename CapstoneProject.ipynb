{
 "cells": [
  {
   "cell_type": "markdown",
   "metadata": {},
   "source": [
    "# Capstone Project - The Battle of Neighborhoods\n",
    "\n",
    "### By Fidel Navarro"
   ]
  },
  {
   "cell_type": "markdown",
   "metadata": {},
   "source": [
    "## Introduction\n",
    "\n",
    "#### This project's purpose is to help people find and choose healthcare centers based on their location, availability, user experience and necessities in a big and busy city like Mexico City (CDMX).\n",
    "\n",
    "#### Large cities such as CDMX where the population is approximately 9 million inhabitants (one of the most inhabited cities in the world) may have traffic and access problems to people in public areas. Furthermore, with the increasing demand of health services, these can easily exceed their attention capacities. For this reason, this project seeks yo solve these problems, creating a program that allows viewing of the nearest health centers with adequate services and capacity."
   ]
  },
  {
   "cell_type": "markdown",
   "metadata": {},
   "source": [
    "#### Thie proyect will work with a dataset of Hospitals and Health Centers provided by the goverment from Mexicco City.\n",
    "\n",
    "#### The file can be optained from:\n",
    "\n",
    "https://datos.cdmx.gob.mx/explore/dataset/hospitales-y-centros-de-salud/export/"
   ]
  },
  {
   "cell_type": "code",
   "execution_count": 1,
   "metadata": {},
   "outputs": [
    {
     "data": {
      "text/html": [
       "<div>\n",
       "<style scoped>\n",
       "    .dataframe tbody tr th:only-of-type {\n",
       "        vertical-align: middle;\n",
       "    }\n",
       "\n",
       "    .dataframe tbody tr th {\n",
       "        vertical-align: top;\n",
       "    }\n",
       "\n",
       "    .dataframe thead th {\n",
       "        text-align: right;\n",
       "    }\n",
       "</style>\n",
       "<table border=\"1\" class=\"dataframe\">\n",
       "  <thead>\n",
       "    <tr style=\"text-align: right;\">\n",
       "      <th></th>\n",
       "      <th>Nombre</th>\n",
       "      <th>Titular</th>\n",
       "      <th>Latitud</th>\n",
       "      <th>Longitud</th>\n",
       "      <th>Coordenadas</th>\n",
       "      <th>Geopoint</th>\n",
       "    </tr>\n",
       "  </thead>\n",
       "  <tbody>\n",
       "    <tr>\n",
       "      <td>0</td>\n",
       "      <td>Hospital General La Villa</td>\n",
       "      <td>Director: Dr. Enrique Garduño Salvador Direcci...</td>\n",
       "      <td>19.480774</td>\n",
       "      <td>-99.103371</td>\n",
       "      <td>-99.103371,19.480774,0.000000</td>\n",
       "      <td>19.480774,-99.103371</td>\n",
       "    </tr>\n",
       "    <tr>\n",
       "      <td>1</td>\n",
       "      <td>Hospital General Milpa Alta</td>\n",
       "      <td>Dirección: Dr.Benjamín Ortega Romero Dirección...</td>\n",
       "      <td>19.200199</td>\n",
       "      <td>-99.011253</td>\n",
       "      <td>-99.011253,19.200199,0.000000</td>\n",
       "      <td>19.200199,-99.011253</td>\n",
       "    </tr>\n",
       "    <tr>\n",
       "      <td>2</td>\n",
       "      <td>Hospital General Ticomán</td>\n",
       "      <td>Director: Dr. Carlos Vazquez Noriega Dirección...</td>\n",
       "      <td>19.514547</td>\n",
       "      <td>-99.138245</td>\n",
       "      <td>-99.138245,19.514547,0.000000</td>\n",
       "      <td>19.514547,-99.138245</td>\n",
       "    </tr>\n",
       "    <tr>\n",
       "      <td>3</td>\n",
       "      <td>Hospital General Dr. Rub?n Le?ero</td>\n",
       "      <td>Director: Dr. José Alfredo Jiménez Douglas Dir...</td>\n",
       "      <td>19.450987</td>\n",
       "      <td>-99.169189</td>\n",
       "      <td>-99.169189,19.450987,0.000000</td>\n",
       "      <td>19.450987,-99.169189</td>\n",
       "    </tr>\n",
       "    <tr>\n",
       "      <td>4</td>\n",
       "      <td>Hospital General Iztapalapa C.E.E.</td>\n",
       "      <td>Director: Dr. Benjamín Méndez Pinto Dirección:...</td>\n",
       "      <td>19.343451</td>\n",
       "      <td>-99.027863</td>\n",
       "      <td>-99.027863,19.343451,0.000000</td>\n",
       "      <td>19.343451,-99.027863</td>\n",
       "    </tr>\n",
       "  </tbody>\n",
       "</table>\n",
       "</div>"
      ],
      "text/plain": [
       "                               Nombre  \\\n",
       "0           Hospital General La Villa   \n",
       "1         Hospital General Milpa Alta   \n",
       "2            Hospital General Ticomán   \n",
       "3   Hospital General Dr. Rub?n Le?ero   \n",
       "4  Hospital General Iztapalapa C.E.E.   \n",
       "\n",
       "                                             Titular    Latitud   Longitud  \\\n",
       "0  Director: Dr. Enrique Garduño Salvador Direcci...  19.480774 -99.103371   \n",
       "1  Dirección: Dr.Benjamín Ortega Romero Dirección...  19.200199 -99.011253   \n",
       "2  Director: Dr. Carlos Vazquez Noriega Dirección...  19.514547 -99.138245   \n",
       "3  Director: Dr. José Alfredo Jiménez Douglas Dir...  19.450987 -99.169189   \n",
       "4  Director: Dr. Benjamín Méndez Pinto Dirección:...  19.343451 -99.027863   \n",
       "\n",
       "                     Coordenadas              Geopoint  \n",
       "0  -99.103371,19.480774,0.000000  19.480774,-99.103371  \n",
       "1  -99.011253,19.200199,0.000000  19.200199,-99.011253  \n",
       "2  -99.138245,19.514547,0.000000  19.514547,-99.138245  \n",
       "3  -99.169189,19.450987,0.000000  19.450987,-99.169189  \n",
       "4  -99.027863,19.343451,0.000000  19.343451,-99.027863  "
      ]
     },
     "execution_count": 1,
     "metadata": {},
     "output_type": "execute_result"
    }
   ],
   "source": [
    "import pandas as pd\n",
    "import numpy as np\n",
    "from geopy.geocoders import Nominatim\n",
    "import requests\n",
    "from pandas.io.json import json_normalize\n",
    "import folium\n",
    "import matplotlib.cm as cm\n",
    "import matplotlib.colors as colors\n",
    "\n",
    "df = pd.read_csv(\"hospitales-y-centros-de-salud.csv\")\n",
    "df.head()"
   ]
  },
  {
   "cell_type": "code",
   "execution_count": 2,
   "metadata": {},
   "outputs": [
    {
     "data": {
      "text/plain": [
       "(27, 6)"
      ]
     },
     "execution_count": 2,
     "metadata": {},
     "output_type": "execute_result"
    }
   ],
   "source": [
    "df.shape"
   ]
  },
  {
   "cell_type": "markdown",
   "metadata": {},
   "source": [
    "#### The dataset has 27 registered hospitals and healthcare centers available in Mexico City.\n",
    "\n",
    "#### It contains the following columns: \n",
    "\n",
    "##### 1. Nombre (Name)\n",
    "##### 2. Titular (Person in charge)\n",
    "##### 3. Latitud (Latitude)\n",
    "##### 4.Longitud (Longitude)\n",
    "##### 5.Coordenadas (coordinates)\n",
    "##### 6.Geopoint"
   ]
  },
  {
   "cell_type": "markdown",
   "metadata": {},
   "source": [
    "#### Visualization of the 27 hospitals using folium."
   ]
  },
  {
   "cell_type": "code",
   "execution_count": 3,
   "metadata": {},
   "outputs": [
    {
     "data": {
      "text/html": [
       "<div style=\"width:100%;\"><div style=\"position:relative;width:100%;height:0;padding-bottom:60%;\"><span style=\"color:#565656\">Make this Notebook Trusted to load map: File -> Trust Notebook</span><iframe src=\"about:blank\" style=\"position:absolute;width:100%;height:100%;left:0;top:0;border:none !important;\" data-html=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 onload=\"this.contentDocument.open();this.contentDocument.write(atob(this.getAttribute('data-html')));this.contentDocument.close();\" allowfullscreen webkitallowfullscreen mozallowfullscreen></iframe></div></div>"
      ],
      "text/plain": [
       "<folium.folium.Map at 0x1a398da69c8>"
      ]
     },
     "execution_count": 3,
     "metadata": {},
     "output_type": "execute_result"
    }
   ],
   "source": [
    "CDMX = folium.Map(location=[19.42847,-99.12766],zoom_start=11)\n",
    "\n",
    "hosps = folium.map.FeatureGroup()\n",
    "\n",
    "for lat, lng, in zip(df.Latitud, df.Longitud):\n",
    "    folium.Marker([lat, lng]).add_to(CDMX)\n",
    "\n",
    "CDMX"
   ]
  },
  {
   "cell_type": "markdown",
   "metadata": {},
   "source": [
    "#### Define foursquare credentials."
   ]
  },
  {
   "cell_type": "code",
   "execution_count": 4,
   "metadata": {},
   "outputs": [],
   "source": [
    "CLIENT_ID = \"BV3XE0TTHY0NP3QORDSPTLSYFZ05U5BJJMGGP5YENTY50DA2\" \n",
    "CLIENT_SECRET = \"5041RQQJFMWBWV3SLJILREFT2225HTVC3EQBAZZ2ZLQXYNRJ\"\n",
    "VERSION = '20180604'\n",
    "LIMIT = 30"
   ]
  },
  {
   "cell_type": "markdown",
   "metadata": {},
   "source": [
    "#### Define a function that transforms an address to geographic coördinates."
   ]
  },
  {
   "cell_type": "code",
   "execution_count": 5,
   "metadata": {},
   "outputs": [],
   "source": [
    "def geo(address):\n",
    "    geolocator = Nominatim(user_agent=\"foursquare_agent\")\n",
    "    location = geolocator.geocode(address)\n",
    "    latitude = location.latitude\n",
    "    longitude = location.longitude\n",
    "    return (latitude, longitude)\n",
    "\n",
    "def geo_add(lat, lng):\n",
    "    geolocator = Nominatim(user_agent=\"foursquare_agent\")\n",
    "    lat = str(lat)\n",
    "    lng = str(lng)\n",
    "    coord = lat+\",\"+lng\n",
    "    location = geolocator.reverse(coord)\n",
    "    return(location.address)"
   ]
  },
  {
   "cell_type": "markdown",
   "metadata": {},
   "source": [
    "#### Transform an address from CDMX using the previous defined function."
   ]
  },
  {
   "cell_type": "code",
   "execution_count": 6,
   "metadata": {},
   "outputs": [
    {
     "name": "stdout",
     "output_type": "stream",
     "text": [
      "19.3417075 , -99.197798\n"
     ]
    }
   ],
   "source": [
    "address = \"Avenida Frontera, Batán Barrio Viejo, Álvaro Obregón, Ciudad de México, 01080, México\"\n",
    "latitude, longitude = geo(address)\n",
    "print(latitude, \",\", longitude)"
   ]
  },
  {
   "cell_type": "markdown",
   "metadata": {},
   "source": [
    "#### Search for Hospitals near our desired address."
   ]
  },
  {
   "cell_type": "code",
   "execution_count": 7,
   "metadata": {},
   "outputs": [
    {
     "data": {
      "text/plain": [
       "'https://api.foursquare.com/v2/venues/search?client_id=BV3XE0TTHY0NP3QORDSPTLSYFZ05U5BJJMGGP5YENTY50DA2&client_secret=5041RQQJFMWBWV3SLJILREFT2225HTVC3EQBAZZ2ZLQXYNRJ&ll=19.3417075,-99.197798&v=20180604&query=Hospital&radius=500&limit=100'"
      ]
     },
     "execution_count": 7,
     "metadata": {},
     "output_type": "execute_result"
    }
   ],
   "source": [
    "search_query = 'Hospital'\n",
    "radius = 500\n",
    "LIMIT = 100\n",
    "\n",
    "url = 'https://api.foursquare.com/v2/venues/search?client_id={}&client_secret={}&ll={},{}&v={}&query={}&radius={}&limit={}'.format(CLIENT_ID, CLIENT_SECRET, latitude, longitude, VERSION, search_query, radius, LIMIT)\n",
    "url"
   ]
  },
  {
   "cell_type": "code",
   "execution_count": 8,
   "metadata": {},
   "outputs": [
    {
     "data": {
      "text/plain": [
       "{'meta': {'code': 200, 'requestId': '5f04ec000ff35d2a393975e3'},\n",
       " 'response': {'venues': [{'id': '4d6585b03384a0933e51a83c',\n",
       "    'name': 'Hospital San Angel Inn Sur',\n",
       "    'location': {'address': 'Av. México No. 2, Col. Tizapán San Angel',\n",
       "     'crossStreet': 'Guerrero',\n",
       "     'lat': 19.340471795284504,\n",
       "     'lng': -99.19989652515093,\n",
       "     'labeledLatLngs': [{'label': 'display',\n",
       "       'lat': 19.340471795284504,\n",
       "       'lng': -99.19989652515093}],\n",
       "     'distance': 259,\n",
       "     'postalCode': '01080',\n",
       "     'cc': 'MX',\n",
       "     'city': 'Ciudad de México',\n",
       "     'state': 'Distrito Federal',\n",
       "     'country': 'México',\n",
       "     'formattedAddress': ['Av. México No. 2, Col. Tizapán San Angel (Guerrero)',\n",
       "      '01080 Ciudad de México, Distrito Federal',\n",
       "      'México']},\n",
       "    'categories': [{'id': '4bf58dd8d48988d196941735',\n",
       "      'name': 'Hospital',\n",
       "      'pluralName': 'Hospitals',\n",
       "      'shortName': 'Hospital',\n",
       "      'icon': {'prefix': 'https://ss3.4sqi.net/img/categories_v2/building/medical_',\n",
       "       'suffix': '.png'},\n",
       "      'primary': True}],\n",
       "    'referralId': 'v-1594158050',\n",
       "    'hasPerk': False},\n",
       "   {'id': '5022edc3e4b07c69f51c736e',\n",
       "    'name': 'Hospital Vicentino y Casa Hogar',\n",
       "    'location': {'lat': 19.339440915170034,\n",
       "     'lng': -99.19983738159011,\n",
       "     'labeledLatLngs': [{'label': 'display',\n",
       "       'lat': 19.339440915170034,\n",
       "       'lng': -99.19983738159011}],\n",
       "     'distance': 330,\n",
       "     'cc': 'MX',\n",
       "     'state': 'México',\n",
       "     'country': 'México',\n",
       "     'formattedAddress': ['México', 'México']},\n",
       "    'categories': [{'id': '4bf58dd8d48988d196941735',\n",
       "      'name': 'Hospital',\n",
       "      'pluralName': 'Hospitals',\n",
       "      'shortName': 'Hospital',\n",
       "      'icon': {'prefix': 'https://ss3.4sqi.net/img/categories_v2/building/medical_',\n",
       "       'suffix': '.png'},\n",
       "      'primary': True}],\n",
       "    'referralId': 'v-1594158050',\n",
       "    'hasPerk': False},\n",
       "   {'id': '53dd0439498e6dfaddc4365c',\n",
       "    'name': 'HOSPITAL ANGELES PEDREGAL, DR MIRANDA',\n",
       "    'location': {'lat': 19.341568537998192,\n",
       "     'lng': -99.19883698821285,\n",
       "     'labeledLatLngs': [{'label': 'display',\n",
       "       'lat': 19.341568537998192,\n",
       "       'lng': -99.19883698821285}],\n",
       "     'distance': 110,\n",
       "     'cc': 'MX',\n",
       "     'country': 'México',\n",
       "     'formattedAddress': ['México']},\n",
       "    'categories': [{'id': '4bf58dd8d48988d177941735',\n",
       "      'name': \"Doctor's Office\",\n",
       "      'pluralName': \"Doctor's Offices\",\n",
       "      'shortName': \"Doctor's Office\",\n",
       "      'icon': {'prefix': 'https://ss3.4sqi.net/img/categories_v2/building/medical_doctorsoffice_',\n",
       "       'suffix': '.png'},\n",
       "      'primary': True}],\n",
       "    'referralId': 'v-1594158050',\n",
       "    'hasPerk': False},\n",
       "   {'id': '4eb57c76775b544c275148c1',\n",
       "    'name': 'Hospital Medicos Especialistas',\n",
       "    'location': {'address': 'Morelos',\n",
       "     'crossStreet': 'Veracruz',\n",
       "     'lat': 19.341809,\n",
       "     'lng': -99.201051,\n",
       "     'labeledLatLngs': [{'label': 'display',\n",
       "       'lat': 19.341809,\n",
       "       'lng': -99.201051}],\n",
       "     'distance': 341,\n",
       "     'cc': 'MX',\n",
       "     'city': 'Ciudad de México',\n",
       "     'state': 'Distrito Federal',\n",
       "     'country': 'México',\n",
       "     'formattedAddress': ['Morelos (Veracruz)',\n",
       "      'Ciudad de México, Distrito Federal',\n",
       "      'México']},\n",
       "    'categories': [{'id': '4bf58dd8d48988d177941735',\n",
       "      'name': \"Doctor's Office\",\n",
       "      'pluralName': \"Doctor's Offices\",\n",
       "      'shortName': \"Doctor's Office\",\n",
       "      'icon': {'prefix': 'https://ss3.4sqi.net/img/categories_v2/building/medical_doctorsoffice_',\n",
       "       'suffix': '.png'},\n",
       "      'primary': True}],\n",
       "    'referralId': 'v-1594158050',\n",
       "    'hasPerk': False}]}}"
      ]
     },
     "execution_count": 8,
     "metadata": {},
     "output_type": "execute_result"
    }
   ],
   "source": [
    "results = requests.get(url).json()\n",
    "results"
   ]
  },
  {
   "cell_type": "markdown",
   "metadata": {},
   "source": [
    "#### Get the relevant part of JSON and transform it into a pandas dataframe."
   ]
  },
  {
   "cell_type": "code",
   "execution_count": 9,
   "metadata": {},
   "outputs": [
    {
     "data": {
      "text/html": [
       "<div>\n",
       "<style scoped>\n",
       "    .dataframe tbody tr th:only-of-type {\n",
       "        vertical-align: middle;\n",
       "    }\n",
       "\n",
       "    .dataframe tbody tr th {\n",
       "        vertical-align: top;\n",
       "    }\n",
       "\n",
       "    .dataframe thead th {\n",
       "        text-align: right;\n",
       "    }\n",
       "</style>\n",
       "<table border=\"1\" class=\"dataframe\">\n",
       "  <thead>\n",
       "    <tr style=\"text-align: right;\">\n",
       "      <th></th>\n",
       "      <th>id</th>\n",
       "      <th>name</th>\n",
       "      <th>categories</th>\n",
       "      <th>referralId</th>\n",
       "      <th>hasPerk</th>\n",
       "      <th>location.address</th>\n",
       "      <th>location.crossStreet</th>\n",
       "      <th>location.lat</th>\n",
       "      <th>location.lng</th>\n",
       "      <th>location.labeledLatLngs</th>\n",
       "      <th>location.distance</th>\n",
       "      <th>location.postalCode</th>\n",
       "      <th>location.cc</th>\n",
       "      <th>location.city</th>\n",
       "      <th>location.state</th>\n",
       "      <th>location.country</th>\n",
       "      <th>location.formattedAddress</th>\n",
       "    </tr>\n",
       "  </thead>\n",
       "  <tbody>\n",
       "    <tr>\n",
       "      <td>0</td>\n",
       "      <td>4d6585b03384a0933e51a83c</td>\n",
       "      <td>Hospital San Angel Inn Sur</td>\n",
       "      <td>[{'id': '4bf58dd8d48988d196941735', 'name': 'H...</td>\n",
       "      <td>v-1594158050</td>\n",
       "      <td>False</td>\n",
       "      <td>Av. México No. 2, Col. Tizapán San Angel</td>\n",
       "      <td>Guerrero</td>\n",
       "      <td>19.340472</td>\n",
       "      <td>-99.199897</td>\n",
       "      <td>[{'label': 'display', 'lat': 19.34047179528450...</td>\n",
       "      <td>259</td>\n",
       "      <td>01080</td>\n",
       "      <td>MX</td>\n",
       "      <td>Ciudad de México</td>\n",
       "      <td>Distrito Federal</td>\n",
       "      <td>México</td>\n",
       "      <td>[Av. México No. 2, Col. Tizapán San Angel (Gue...</td>\n",
       "    </tr>\n",
       "    <tr>\n",
       "      <td>1</td>\n",
       "      <td>5022edc3e4b07c69f51c736e</td>\n",
       "      <td>Hospital Vicentino y Casa Hogar</td>\n",
       "      <td>[{'id': '4bf58dd8d48988d196941735', 'name': 'H...</td>\n",
       "      <td>v-1594158050</td>\n",
       "      <td>False</td>\n",
       "      <td>NaN</td>\n",
       "      <td>NaN</td>\n",
       "      <td>19.339441</td>\n",
       "      <td>-99.199837</td>\n",
       "      <td>[{'label': 'display', 'lat': 19.33944091517003...</td>\n",
       "      <td>330</td>\n",
       "      <td>NaN</td>\n",
       "      <td>MX</td>\n",
       "      <td>NaN</td>\n",
       "      <td>México</td>\n",
       "      <td>México</td>\n",
       "      <td>[México, México]</td>\n",
       "    </tr>\n",
       "    <tr>\n",
       "      <td>2</td>\n",
       "      <td>53dd0439498e6dfaddc4365c</td>\n",
       "      <td>HOSPITAL ANGELES PEDREGAL, DR MIRANDA</td>\n",
       "      <td>[{'id': '4bf58dd8d48988d177941735', 'name': 'D...</td>\n",
       "      <td>v-1594158050</td>\n",
       "      <td>False</td>\n",
       "      <td>NaN</td>\n",
       "      <td>NaN</td>\n",
       "      <td>19.341569</td>\n",
       "      <td>-99.198837</td>\n",
       "      <td>[{'label': 'display', 'lat': 19.34156853799819...</td>\n",
       "      <td>110</td>\n",
       "      <td>NaN</td>\n",
       "      <td>MX</td>\n",
       "      <td>NaN</td>\n",
       "      <td>NaN</td>\n",
       "      <td>México</td>\n",
       "      <td>[México]</td>\n",
       "    </tr>\n",
       "    <tr>\n",
       "      <td>3</td>\n",
       "      <td>4eb57c76775b544c275148c1</td>\n",
       "      <td>Hospital Medicos Especialistas</td>\n",
       "      <td>[{'id': '4bf58dd8d48988d177941735', 'name': 'D...</td>\n",
       "      <td>v-1594158050</td>\n",
       "      <td>False</td>\n",
       "      <td>Morelos</td>\n",
       "      <td>Veracruz</td>\n",
       "      <td>19.341809</td>\n",
       "      <td>-99.201051</td>\n",
       "      <td>[{'label': 'display', 'lat': 19.341809, 'lng':...</td>\n",
       "      <td>341</td>\n",
       "      <td>NaN</td>\n",
       "      <td>MX</td>\n",
       "      <td>Ciudad de México</td>\n",
       "      <td>Distrito Federal</td>\n",
       "      <td>México</td>\n",
       "      <td>[Morelos (Veracruz), Ciudad de México, Distrit...</td>\n",
       "    </tr>\n",
       "  </tbody>\n",
       "</table>\n",
       "</div>"
      ],
      "text/plain": [
       "                         id                                   name  \\\n",
       "0  4d6585b03384a0933e51a83c             Hospital San Angel Inn Sur   \n",
       "1  5022edc3e4b07c69f51c736e        Hospital Vicentino y Casa Hogar   \n",
       "2  53dd0439498e6dfaddc4365c  HOSPITAL ANGELES PEDREGAL, DR MIRANDA   \n",
       "3  4eb57c76775b544c275148c1         Hospital Medicos Especialistas   \n",
       "\n",
       "                                          categories    referralId  hasPerk  \\\n",
       "0  [{'id': '4bf58dd8d48988d196941735', 'name': 'H...  v-1594158050    False   \n",
       "1  [{'id': '4bf58dd8d48988d196941735', 'name': 'H...  v-1594158050    False   \n",
       "2  [{'id': '4bf58dd8d48988d177941735', 'name': 'D...  v-1594158050    False   \n",
       "3  [{'id': '4bf58dd8d48988d177941735', 'name': 'D...  v-1594158050    False   \n",
       "\n",
       "                           location.address location.crossStreet  \\\n",
       "0  Av. México No. 2, Col. Tizapán San Angel             Guerrero   \n",
       "1                                       NaN                  NaN   \n",
       "2                                       NaN                  NaN   \n",
       "3                                   Morelos             Veracruz   \n",
       "\n",
       "   location.lat  location.lng  \\\n",
       "0     19.340472    -99.199897   \n",
       "1     19.339441    -99.199837   \n",
       "2     19.341569    -99.198837   \n",
       "3     19.341809    -99.201051   \n",
       "\n",
       "                             location.labeledLatLngs  location.distance  \\\n",
       "0  [{'label': 'display', 'lat': 19.34047179528450...                259   \n",
       "1  [{'label': 'display', 'lat': 19.33944091517003...                330   \n",
       "2  [{'label': 'display', 'lat': 19.34156853799819...                110   \n",
       "3  [{'label': 'display', 'lat': 19.341809, 'lng':...                341   \n",
       "\n",
       "  location.postalCode location.cc     location.city    location.state  \\\n",
       "0               01080          MX  Ciudad de México  Distrito Federal   \n",
       "1                 NaN          MX               NaN            México   \n",
       "2                 NaN          MX               NaN               NaN   \n",
       "3                 NaN          MX  Ciudad de México  Distrito Federal   \n",
       "\n",
       "  location.country                          location.formattedAddress  \n",
       "0           México  [Av. México No. 2, Col. Tizapán San Angel (Gue...  \n",
       "1           México                                   [México, México]  \n",
       "2           México                                           [México]  \n",
       "3           México  [Morelos (Veracruz), Ciudad de México, Distrit...  "
      ]
     },
     "execution_count": 9,
     "metadata": {},
     "output_type": "execute_result"
    }
   ],
   "source": [
    "hosp = results[\"response\"][\"venues\"]\n",
    "dataframe = json_normalize(hosp)\n",
    "dataframe.head()"
   ]
  },
  {
   "cell_type": "markdown",
   "metadata": {},
   "source": [
    "#### Define information of interest."
   ]
  },
  {
   "cell_type": "code",
   "execution_count": 10,
   "metadata": {},
   "outputs": [
    {
     "data": {
      "text/html": [
       "<div>\n",
       "<style scoped>\n",
       "    .dataframe tbody tr th:only-of-type {\n",
       "        vertical-align: middle;\n",
       "    }\n",
       "\n",
       "    .dataframe tbody tr th {\n",
       "        vertical-align: top;\n",
       "    }\n",
       "\n",
       "    .dataframe thead th {\n",
       "        text-align: right;\n",
       "    }\n",
       "</style>\n",
       "<table border=\"1\" class=\"dataframe\">\n",
       "  <thead>\n",
       "    <tr style=\"text-align: right;\">\n",
       "      <th></th>\n",
       "      <th>id</th>\n",
       "      <th>name</th>\n",
       "      <th>lat</th>\n",
       "      <th>lng</th>\n",
       "      <th>distance</th>\n",
       "    </tr>\n",
       "  </thead>\n",
       "  <tbody>\n",
       "    <tr>\n",
       "      <td>0</td>\n",
       "      <td>53dd0439498e6dfaddc4365c</td>\n",
       "      <td>HOSPITAL ANGELES PEDREGAL, DR MIRANDA</td>\n",
       "      <td>19.341569</td>\n",
       "      <td>-99.198837</td>\n",
       "      <td>110</td>\n",
       "    </tr>\n",
       "    <tr>\n",
       "      <td>1</td>\n",
       "      <td>4d6585b03384a0933e51a83c</td>\n",
       "      <td>Hospital San Angel Inn Sur</td>\n",
       "      <td>19.340472</td>\n",
       "      <td>-99.199897</td>\n",
       "      <td>259</td>\n",
       "    </tr>\n",
       "    <tr>\n",
       "      <td>2</td>\n",
       "      <td>5022edc3e4b07c69f51c736e</td>\n",
       "      <td>Hospital Vicentino y Casa Hogar</td>\n",
       "      <td>19.339441</td>\n",
       "      <td>-99.199837</td>\n",
       "      <td>330</td>\n",
       "    </tr>\n",
       "    <tr>\n",
       "      <td>3</td>\n",
       "      <td>4eb57c76775b544c275148c1</td>\n",
       "      <td>Hospital Medicos Especialistas</td>\n",
       "      <td>19.341809</td>\n",
       "      <td>-99.201051</td>\n",
       "      <td>341</td>\n",
       "    </tr>\n",
       "  </tbody>\n",
       "</table>\n",
       "</div>"
      ],
      "text/plain": [
       "                         id                                   name        lat  \\\n",
       "0  53dd0439498e6dfaddc4365c  HOSPITAL ANGELES PEDREGAL, DR MIRANDA  19.341569   \n",
       "1  4d6585b03384a0933e51a83c             Hospital San Angel Inn Sur  19.340472   \n",
       "2  5022edc3e4b07c69f51c736e        Hospital Vicentino y Casa Hogar  19.339441   \n",
       "3  4eb57c76775b544c275148c1         Hospital Medicos Especialistas  19.341809   \n",
       "\n",
       "         lng  distance  \n",
       "0 -99.198837       110  \n",
       "1 -99.199897       259  \n",
       "2 -99.199837       330  \n",
       "3 -99.201051       341  "
      ]
     },
     "execution_count": 10,
     "metadata": {},
     "output_type": "execute_result"
    }
   ],
   "source": [
    "filtered_columns = [\"id\", \"name\", \"location.lat\", \"location.lng\", \"location.distance\"]\n",
    "hosp_filtered = dataframe.loc[:, filtered_columns]\n",
    "hosp_filtered.rename(columns={\"location.lat\" : \"lat\", \"location.lng\" : \"lng\", \"location.distance\" : \"distance\"}, inplace=True)\n",
    "hosp_filtered.sort_values(by=[\"distance\"], inplace=True)\n",
    "hosp_filtered.reset_index(drop=True, inplace=True)\n",
    "hosp_filtered"
   ]
  },
  {
   "cell_type": "markdown",
   "metadata": {},
   "source": [
    "#### Nearby hospitals."
   ]
  },
  {
   "cell_type": "code",
   "execution_count": 11,
   "metadata": {},
   "outputs": [
    {
     "data": {
      "text/plain": [
       "0    HOSPITAL ANGELES PEDREGAL, DR MIRANDA\n",
       "1               Hospital San Angel Inn Sur\n",
       "2          Hospital Vicentino y Casa Hogar\n",
       "3           Hospital Medicos Especialistas\n",
       "Name: name, dtype: object"
      ]
     },
     "execution_count": 11,
     "metadata": {},
     "output_type": "execute_result"
    }
   ],
   "source": [
    "hosp_filtered.name"
   ]
  },
  {
   "cell_type": "code",
   "execution_count": 13,
   "metadata": {},
   "outputs": [
    {
     "data": {
      "text/html": [
       "<div style=\"width:100%;\"><div style=\"position:relative;width:100%;height:0;padding-bottom:60%;\"><span style=\"color:#565656\">Make this Notebook Trusted to load map: File -> Trust Notebook</span><iframe src=\"about:blank\" style=\"position:absolute;width:100%;height:100%;left:0;top:0;border:none !important;\" data-html=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 onload=\"this.contentDocument.open();this.contentDocument.write(atob(this.getAttribute('data-html')));this.contentDocument.close();\" allowfullscreen webkitallowfullscreen mozallowfullscreen></iframe></div></div>"
      ],
      "text/plain": [
       "<folium.folium.Map at 0x1a398e6b548>"
      ]
     },
     "execution_count": 13,
     "metadata": {},
     "output_type": "execute_result"
    }
   ],
   "source": [
    "my_map = folium.Map(location=[latitude, longitude], zoom_start=18)\n",
    "\n",
    "folium.CircleMarker([latitude, longitude], color=\"red\", fill = True, fill_color = \"red\", fill_opacity=0.6).add_to(my_map)\n",
    "\n",
    "for lat, lng, in zip(hosp_filtered.lat, hosp_filtered.lng):\n",
    "    folium.Marker([lat, lng]).add_to(my_map)\n",
    "\n",
    "my_map"
   ]
  },
  {
   "cell_type": "markdown",
   "metadata": {},
   "source": [
    "#### Get the hospitals' overall rating"
   ]
  },
  {
   "cell_type": "code",
   "execution_count": 14,
   "metadata": {},
   "outputs": [],
   "source": [
    "rating=[]\n",
    "tips=[]\n",
    "for i in range(0, len(hosp_filtered)):\n",
    "    hosp_id = hosp_filtered[\"id\"][i]\n",
    "    url = 'https://api.foursquare.com/v2/venues/{}?client_id={}&client_secret={}&v={}'.format(hosp_id, CLIENT_ID, CLIENT_SECRET, VERSION)\n",
    "\n",
    "    result = requests.get(url).json()\n",
    "    try:\n",
    "        rating.append(result['response']['venue']['rating'])\n",
    "    except:\n",
    "        rating.append(np.nan)\n",
    "    tips.append(result['response']['venue']['tips']['count'])"
   ]
  },
  {
   "cell_type": "markdown",
   "metadata": {},
   "source": [
    "#### None but one of the hospitals have been rated"
   ]
  },
  {
   "cell_type": "code",
   "execution_count": 15,
   "metadata": {},
   "outputs": [
    {
     "data": {
      "text/plain": [
       "[nan, nan, nan, nan]"
      ]
     },
     "execution_count": 15,
     "metadata": {},
     "output_type": "execute_result"
    }
   ],
   "source": [
    "rating"
   ]
  },
  {
   "cell_type": "markdown",
   "metadata": {},
   "source": [
    "#### Lest visualize the number of tips"
   ]
  },
  {
   "cell_type": "code",
   "execution_count": 16,
   "metadata": {},
   "outputs": [
    {
     "data": {
      "text/plain": [
       "[0, 38, 2, 0]"
      ]
     },
     "execution_count": 16,
     "metadata": {},
     "output_type": "execute_result"
    }
   ],
   "source": [
    "tips"
   ]
  },
  {
   "cell_type": "markdown",
   "metadata": {},
   "source": [
    "#### From the tips we know that the closest and farthest hospitals have not received any tips; mean while, the 2nd and 3rd closest hospitals have 38 and 2 tips accordingly.\n",
    "\n",
    "#### Since our porpouse is to determine the best hospital or health center we can start analyzing the second hospital since it shows a bigger popularity.\n",
    "\n",
    "#### Lets add a tips and rating column to the dataframe."
   ]
  },
  {
   "cell_type": "code",
   "execution_count": 17,
   "metadata": {},
   "outputs": [
    {
     "data": {
      "text/html": [
       "<div>\n",
       "<style scoped>\n",
       "    .dataframe tbody tr th:only-of-type {\n",
       "        vertical-align: middle;\n",
       "    }\n",
       "\n",
       "    .dataframe tbody tr th {\n",
       "        vertical-align: top;\n",
       "    }\n",
       "\n",
       "    .dataframe thead th {\n",
       "        text-align: right;\n",
       "    }\n",
       "</style>\n",
       "<table border=\"1\" class=\"dataframe\">\n",
       "  <thead>\n",
       "    <tr style=\"text-align: right;\">\n",
       "      <th></th>\n",
       "      <th>id</th>\n",
       "      <th>name</th>\n",
       "      <th>lat</th>\n",
       "      <th>lng</th>\n",
       "      <th>distance</th>\n",
       "      <th>numb_tips</th>\n",
       "      <th>rating</th>\n",
       "    </tr>\n",
       "  </thead>\n",
       "  <tbody>\n",
       "    <tr>\n",
       "      <td>0</td>\n",
       "      <td>53dd0439498e6dfaddc4365c</td>\n",
       "      <td>HOSPITAL ANGELES PEDREGAL, DR MIRANDA</td>\n",
       "      <td>19.341569</td>\n",
       "      <td>-99.198837</td>\n",
       "      <td>110</td>\n",
       "      <td>0</td>\n",
       "      <td>NaN</td>\n",
       "    </tr>\n",
       "    <tr>\n",
       "      <td>1</td>\n",
       "      <td>4d6585b03384a0933e51a83c</td>\n",
       "      <td>Hospital San Angel Inn Sur</td>\n",
       "      <td>19.340472</td>\n",
       "      <td>-99.199897</td>\n",
       "      <td>259</td>\n",
       "      <td>38</td>\n",
       "      <td>NaN</td>\n",
       "    </tr>\n",
       "    <tr>\n",
       "      <td>2</td>\n",
       "      <td>5022edc3e4b07c69f51c736e</td>\n",
       "      <td>Hospital Vicentino y Casa Hogar</td>\n",
       "      <td>19.339441</td>\n",
       "      <td>-99.199837</td>\n",
       "      <td>330</td>\n",
       "      <td>2</td>\n",
       "      <td>NaN</td>\n",
       "    </tr>\n",
       "    <tr>\n",
       "      <td>3</td>\n",
       "      <td>4eb57c76775b544c275148c1</td>\n",
       "      <td>Hospital Medicos Especialistas</td>\n",
       "      <td>19.341809</td>\n",
       "      <td>-99.201051</td>\n",
       "      <td>341</td>\n",
       "      <td>0</td>\n",
       "      <td>NaN</td>\n",
       "    </tr>\n",
       "  </tbody>\n",
       "</table>\n",
       "</div>"
      ],
      "text/plain": [
       "                         id                                   name        lat  \\\n",
       "0  53dd0439498e6dfaddc4365c  HOSPITAL ANGELES PEDREGAL, DR MIRANDA  19.341569   \n",
       "1  4d6585b03384a0933e51a83c             Hospital San Angel Inn Sur  19.340472   \n",
       "2  5022edc3e4b07c69f51c736e        Hospital Vicentino y Casa Hogar  19.339441   \n",
       "3  4eb57c76775b544c275148c1         Hospital Medicos Especialistas  19.341809   \n",
       "\n",
       "         lng  distance  numb_tips  rating  \n",
       "0 -99.198837       110          0     NaN  \n",
       "1 -99.199897       259         38     NaN  \n",
       "2 -99.199837       330          2     NaN  \n",
       "3 -99.201051       341          0     NaN  "
      ]
     },
     "execution_count": 17,
     "metadata": {},
     "output_type": "execute_result"
    }
   ],
   "source": [
    "hosp_filtered[\"numb_tips\"] = tips\n",
    "hosp_filtered[\"rating\"] = rating\n",
    "hosp_filtered"
   ]
  },
  {
   "cell_type": "markdown",
   "metadata": {},
   "source": [
    "#### Now lets get the tip with the greatest number of agree counts."
   ]
  },
  {
   "cell_type": "code",
   "execution_count": 202,
   "metadata": {},
   "outputs": [
    {
     "data": {
      "text/html": [
       "<div>\n",
       "<style scoped>\n",
       "    .dataframe tbody tr th:only-of-type {\n",
       "        vertical-align: middle;\n",
       "    }\n",
       "\n",
       "    .dataframe tbody tr th {\n",
       "        vertical-align: top;\n",
       "    }\n",
       "\n",
       "    .dataframe thead th {\n",
       "        text-align: right;\n",
       "    }\n",
       "</style>\n",
       "<table border=\"1\" class=\"dataframe\">\n",
       "  <thead>\n",
       "    <tr style=\"text-align: right;\">\n",
       "      <th></th>\n",
       "      <th>text</th>\n",
       "      <th>agreeCount</th>\n",
       "      <th>disagreeCount</th>\n",
       "      <th>id</th>\n",
       "      <th>user.firstName</th>\n",
       "      <th>user.lastName</th>\n",
       "      <th>user.id</th>\n",
       "    </tr>\n",
       "  </thead>\n",
       "  <tbody>\n",
       "    <tr>\n",
       "      <td>0</td>\n",
       "      <td>El hospital esta en excelentes condiciones. Lo único es que ofrecen paquetes para quirofano a un precio y resulta al final que sale mas caro una prueba de sangre que la misma operación. ¡Cuidado!</td>\n",
       "      <td>0</td>\n",
       "      <td>0</td>\n",
       "      <td>546199b4498e2f85cc5a0c98</td>\n",
       "      <td>Paola</td>\n",
       "      <td>R</td>\n",
       "      <td>55141140</td>\n",
       "    </tr>\n",
       "  </tbody>\n",
       "</table>\n",
       "</div>"
      ],
      "text/plain": [
       "                                                                                                                                                                                                  text  \\\n",
       "0  El hospital esta en excelentes condiciones. Lo único es que ofrecen paquetes para quirofano a un precio y resulta al final que sale mas caro una prueba de sangre que la misma operación. ¡Cuidado!   \n",
       "\n",
       "   agreeCount  disagreeCount                        id user.firstName  \\\n",
       "0  0           0              546199b4498e2f85cc5a0c98  Paola           \n",
       "\n",
       "  user.lastName   user.id  \n",
       "0  R             55141140  "
      ]
     },
     "execution_count": 202,
     "metadata": {},
     "output_type": "execute_result"
    }
   ],
   "source": [
    "limit = 15 \n",
    "tip_id = hosp_filtered[\"id\"][hosp_filtered[\"numb_tips\"].idxmax()]\n",
    "url = 'https://api.foursquare.com/v2/venues/{}/tips?client_id={}&client_secret={}&v={}&limit={}'.format(tip_id, CLIENT_ID, CLIENT_SECRET, VERSION, limit)\n",
    "\n",
    "results = requests.get(url).json()\n",
    "\n",
    "tips = results['response']['tips']['items']\n",
    "tip = results['response']['tips']['items'][0]\n",
    "\n",
    "pd.set_option('display.max_colwidth', -1)\n",
    "\n",
    "tips_df = json_normalize(tips) \n",
    "\n",
    "filtered_columns = ['text', 'agreeCount', 'disagreeCount', 'id', 'user.firstName', 'user.lastName', 'user.id'] # 'user.gender',\n",
    "tips_filtered = tips_df.loc[:, filtered_columns]\n",
    "\n",
    "tips_filtered"
   ]
  },
  {
   "cell_type": "markdown",
   "metadata": {},
   "source": [
    "#### Since there is no much information on the hospital on these area, we can only recommend a hospital based on its popularity (number of tips)."
   ]
  },
  {
   "cell_type": "code",
   "execution_count": 142,
   "metadata": {},
   "outputs": [
    {
     "name": "stdout",
     "output_type": "stream",
     "text": [
      "The recommended hospital is: Hospital San Angel Inn Sur\n",
      "Address: Calle México, Tizapán, Álvaro Obregón, Ciudad de México, 01090, México\n"
     ]
    }
   ],
   "source": [
    "print(\"The recommended hospital is:\",hosp_filtered[\"name\"][hosp_filtered[\"numb_tips\"].idxmax()])\n",
    "print (\"Address:\",geo_add(hosp_filtered[\"lat\"][hosp_filtered[\"numb_tips\"].idxmax()],\n",
    "       hosp_filtered[\"lng\"][hosp_filtered[\"numb_tips\"].idxmax()]))"
   ]
  },
  {
   "cell_type": "markdown",
   "metadata": {},
   "source": [
    "#### Now let's make the same analysis for a different address. But this time lets automate the process."
   ]
  },
  {
   "cell_type": "markdown",
   "metadata": {},
   "source": [
    "#### We define a new function that will automate this process. The function is made using the previous lines of code from this notebook."
   ]
  },
  {
   "cell_type": "code",
   "execution_count": 22,
   "metadata": {},
   "outputs": [],
   "source": [
    "def hospital(address):\n",
    "    latitude, longitude = geo(address)\n",
    "    search_query = 'Hospital'\n",
    "    radius = 500\n",
    "    LIMIT = 100\n",
    "\n",
    "    url = 'https://api.foursquare.com/v2/venues/search?client_id={}&client_secret={}&ll={},{}&v={}&query={}&radius={}&limit={}'.format(CLIENT_ID, CLIENT_SECRET, latitude, longitude, VERSION, search_query, radius, LIMIT)\n",
    "    results = requests.get(url).json()\n",
    "    \n",
    "    hosp = results[\"response\"][\"venues\"]\n",
    "    dataframe = json_normalize(hosp)\n",
    "    \n",
    "    filtered_columns = [\"id\", \"name\", \"location.lat\", \"location.lng\", \"location.distance\"]\n",
    "    hosp_filtered = dataframe.loc[:, filtered_columns]\n",
    "    hosp_filtered.rename(columns={\"location.lat\" : \"lat\", \"location.lng\" : \"lng\", \"location.distance\" : \"distance\"}, inplace=True)\n",
    "    hosp_filtered.sort_values(by=[\"distance\"], inplace=True)\n",
    "    hosp_filtered.reset_index(drop=True, inplace=True)\n",
    "    \n",
    "    #print(hosp_filtered.name)\n",
    "    \n",
    "    rating=[]\n",
    "    tips=[]\n",
    "    for i in range(0, len(hosp_filtered)):\n",
    "        hosp_id = hosp_filtered[\"id\"][i]\n",
    "        url = 'https://api.foursquare.com/v2/venues/{}?client_id={}&client_secret={}&v={}'.format(hosp_id, CLIENT_ID, CLIENT_SECRET, VERSION)\n",
    "\n",
    "        result = requests.get(url).json()\n",
    "        try:\n",
    "            rating.append(result['response']['venue']['rating'])\n",
    "        except:\n",
    "            rating.append(np.nan)\n",
    "        tips.append(result['response']['venue']['tips']['count'])\n",
    "        \n",
    "    hosp_filtered[\"numb_tips\"] = tips\n",
    "    hosp_filtered[\"rating\"] = rating   \n",
    "    \n",
    "    limit = 15 \n",
    "    tip_id = hosp_filtered[\"id\"][hosp_filtered[\"numb_tips\"].idxmax()]\n",
    "    url = 'https://api.foursquare.com/v2/venues/{}/tips?client_id={}&client_secret={}&v={}&limit={}'.format(tip_id, CLIENT_ID, CLIENT_SECRET, VERSION, limit)\n",
    "\n",
    "    results = requests.get(url).json()\n",
    "\n",
    "    tips = results['response']['tips']['items']\n",
    "    tip = results['response']['tips']['items'][0]\n",
    "\n",
    "    pd.set_option('display.max_colwidth', -1)\n",
    "\n",
    "    tips_df = json_normalize(tips) \n",
    "\n",
    "    filtered_columns = ['text', 'agreeCount', 'disagreeCount', 'id', 'user.firstName', 'user.lastName', 'user.id'] # 'user.gender',\n",
    "    tips_filtered = tips_df.loc[:, filtered_columns]\n",
    "    \n",
    "    txt = tips_filtered[\"text\"][0]\n",
    "\n",
    "    #print(\"The recommended hospital is:\",hosp_filtered[\"name\"][hosp_filtered[\"numb_tips\"].idxmax()])\n",
    "    #print (\"Address:\",geo_add(hosp_filtered[\"lat\"][hosp_filtered[\"numb_tips\"].idxmax()],\n",
    "       #hosp_filtered[\"lng\"][hosp_filtered[\"numb_tips\"].idxmax()]))\n",
    "    hosp = \"The recommended hospital is: \" + hosp_filtered[\"name\"][hosp_filtered[\"numb_tips\"].idxmax()]\n",
    "    add = \"Address: \" + geo_add(hosp_filtered[\"lat\"][hosp_filtered[\"numb_tips\"].idxmax()],\n",
    "                  hosp_filtered[\"lng\"][hosp_filtered[\"numb_tips\"].idxmax()])\n",
    "    \n",
    "    my_map = folium.Map(location=[latitude, longitude], zoom_start=17)\n",
    "\n",
    "    folium.CircleMarker([latitude, longitude], color=\"red\", fill = True, fill_color = \"red\", fill_opacity=0.6).add_to(my_map)\n",
    "\n",
    "    folium.Marker([hosp_filtered[\"lat\"][hosp_filtered[\"numb_tips\"].idxmax()], hosp_filtered[\"lng\"][hosp_filtered[\"numb_tips\"].idxmax()]]).add_to(my_map)\n",
    "\n",
    "    my_map\n",
    "    \n",
    "    return my_map, txt, hosp, add\n",
    "    "
   ]
  },
  {
   "cell_type": "markdown",
   "metadata": {},
   "source": [
    "#### We send the address we are interested on. "
   ]
  },
  {
   "cell_type": "code",
   "execution_count": 23,
   "metadata": {},
   "outputs": [],
   "source": [
    "address = 'Calle Norte 1, Isidro Fabela, Pedregal de Tepepan, Tlalpan, Ciudad de México, 14030, México'"
   ]
  },
  {
   "cell_type": "markdown",
   "metadata": {},
   "source": [
    "#### We call the function, this will return:\n",
    "#### 1. A map with our current location (in red) and the location of the recommended hospital. \n",
    "#### 2. A string with a tip of the hospital.\n",
    "#### 3. The hospital name.\n",
    "#### 4. The hospital address."
   ]
  },
  {
   "cell_type": "code",
   "execution_count": 24,
   "metadata": {},
   "outputs": [],
   "source": [
    "my_map, txt, hosp, add = hospital(address)"
   ]
  },
  {
   "cell_type": "code",
   "execution_count": 26,
   "metadata": {},
   "outputs": [
    {
     "name": "stdout",
     "output_type": "stream",
     "text": [
      "The recommended hospital is: Hospital Sedna\n",
      "Address: Hospital Sedna, Lateral Periférico, Bosques de Tetlameya, Coyoacán, Ciudad de México, 14388, México\n",
      "Tip: En general el hospital es buenísimo, la atención, las enfermeras todo me encantó ahora que nació mi bebé, incluso la cesárea no me dolió nada! Mis respetos al dr. Ramírez Castro\n"
     ]
    },
    {
     "data": {
      "text/html": [
       "<div style=\"width:100%;\"><div style=\"position:relative;width:100%;height:0;padding-bottom:60%;\"><span style=\"color:#565656\">Make this Notebook Trusted to load map: File -> Trust Notebook</span><iframe src=\"about:blank\" style=\"position:absolute;width:100%;height:100%;left:0;top:0;border:none !important;\" data-html=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 onload=\"this.contentDocument.open();this.contentDocument.write(atob(this.getAttribute('data-html')));this.contentDocument.close();\" allowfullscreen webkitallowfullscreen mozallowfullscreen></iframe></div></div>"
      ],
      "text/plain": [
       "<folium.folium.Map at 0x1a398e66708>"
      ]
     },
     "execution_count": 26,
     "metadata": {},
     "output_type": "execute_result"
    }
   ],
   "source": [
    "print(hosp)\n",
    "print(add)\n",
    "print(\"Tip:\", txt)\n",
    "my_map"
   ]
  },
  {
   "cell_type": "code",
   "execution_count": null,
   "metadata": {},
   "outputs": [],
   "source": []
  }
 ],
 "metadata": {
  "kernelspec": {
   "display_name": "Python 3",
   "language": "python",
   "name": "python3"
  },
  "language_info": {
   "codemirror_mode": {
    "name": "ipython",
    "version": 3
   },
   "file_extension": ".py",
   "mimetype": "text/x-python",
   "name": "python",
   "nbconvert_exporter": "python",
   "pygments_lexer": "ipython3",
   "version": "3.7.4"
  }
 },
 "nbformat": 4,
 "nbformat_minor": 4
}
