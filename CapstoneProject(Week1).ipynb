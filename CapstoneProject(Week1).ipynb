{
 "cells": [
  {
   "cell_type": "markdown",
   "metadata": {},
   "source": [
    "# Capstone Project - The Battle of Neighborhoods (Week 1)\n",
    "\n",
    "#### By Fidel Navarro"
   ]
  },
  {
   "cell_type": "markdown",
   "metadata": {},
   "source": [
    "## Introduction\n",
    "\n",
    "This project's purpose is to help people find and choose healthcare centers based on their location, availability, user experience and necessities in a big and busy city like Mexico City (CDMX).\n",
    "\n",
    "Large cities such as CDMX where the population is approximately 9 million inhabitants (one of the most inhabited cities in the world) may have traffic and access problems to people in public areas. Furthermore, with the increasing demand of health services, these can easily exceed their attention capacities. For this reason, this project seeks yo solve these problems, creating a program that allows viewing of the nearest health centers with adequate services and capacity."
   ]
  },
  {
   "cell_type": "markdown",
   "metadata": {},
   "source": [
    "Thie proyect will work with a dataset of Hospitals and Health Centers provided by the goverment from Mexicco City.\n",
    "\n",
    "The file can be optained from:\n",
    "\n",
    "https://datos.cdmx.gob.mx/explore/dataset/hospitales-y-centros-de-salud/export/"
   ]
  },
  {
   "cell_type": "code",
   "execution_count": 1,
   "metadata": {},
   "outputs": [
    {
     "data": {
      "text/html": [
       "<div>\n",
       "<style scoped>\n",
       "    .dataframe tbody tr th:only-of-type {\n",
       "        vertical-align: middle;\n",
       "    }\n",
       "\n",
       "    .dataframe tbody tr th {\n",
       "        vertical-align: top;\n",
       "    }\n",
       "\n",
       "    .dataframe thead th {\n",
       "        text-align: right;\n",
       "    }\n",
       "</style>\n",
       "<table border=\"1\" class=\"dataframe\">\n",
       "  <thead>\n",
       "    <tr style=\"text-align: right;\">\n",
       "      <th></th>\n",
       "      <th>Nombre</th>\n",
       "      <th>Titular</th>\n",
       "      <th>Latitud</th>\n",
       "      <th>Longitud</th>\n",
       "      <th>Coordenadas</th>\n",
       "      <th>Geopoint</th>\n",
       "    </tr>\n",
       "  </thead>\n",
       "  <tbody>\n",
       "    <tr>\n",
       "      <td>0</td>\n",
       "      <td>Hospital General La Villa</td>\n",
       "      <td>Director: Dr. Enrique Garduño Salvador Direcci...</td>\n",
       "      <td>19.480774</td>\n",
       "      <td>-99.103371</td>\n",
       "      <td>-99.103371,19.480774,0.000000</td>\n",
       "      <td>19.480774,-99.103371</td>\n",
       "    </tr>\n",
       "    <tr>\n",
       "      <td>1</td>\n",
       "      <td>Hospital General Milpa Alta</td>\n",
       "      <td>Dirección: Dr.Benjamín Ortega Romero Dirección...</td>\n",
       "      <td>19.200199</td>\n",
       "      <td>-99.011253</td>\n",
       "      <td>-99.011253,19.200199,0.000000</td>\n",
       "      <td>19.200199,-99.011253</td>\n",
       "    </tr>\n",
       "    <tr>\n",
       "      <td>2</td>\n",
       "      <td>Hospital General Ticomán</td>\n",
       "      <td>Director: Dr. Carlos Vazquez Noriega Dirección...</td>\n",
       "      <td>19.514547</td>\n",
       "      <td>-99.138245</td>\n",
       "      <td>-99.138245,19.514547,0.000000</td>\n",
       "      <td>19.514547,-99.138245</td>\n",
       "    </tr>\n",
       "    <tr>\n",
       "      <td>3</td>\n",
       "      <td>Hospital General Dr. Rub?n Le?ero</td>\n",
       "      <td>Director: Dr. José Alfredo Jiménez Douglas Dir...</td>\n",
       "      <td>19.450987</td>\n",
       "      <td>-99.169189</td>\n",
       "      <td>-99.169189,19.450987,0.000000</td>\n",
       "      <td>19.450987,-99.169189</td>\n",
       "    </tr>\n",
       "    <tr>\n",
       "      <td>4</td>\n",
       "      <td>Hospital General Iztapalapa C.E.E.</td>\n",
       "      <td>Director: Dr. Benjamín Méndez Pinto Dirección:...</td>\n",
       "      <td>19.343451</td>\n",
       "      <td>-99.027863</td>\n",
       "      <td>-99.027863,19.343451,0.000000</td>\n",
       "      <td>19.343451,-99.027863</td>\n",
       "    </tr>\n",
       "  </tbody>\n",
       "</table>\n",
       "</div>"
      ],
      "text/plain": [
       "                               Nombre  \\\n",
       "0           Hospital General La Villa   \n",
       "1         Hospital General Milpa Alta   \n",
       "2            Hospital General Ticomán   \n",
       "3   Hospital General Dr. Rub?n Le?ero   \n",
       "4  Hospital General Iztapalapa C.E.E.   \n",
       "\n",
       "                                             Titular    Latitud   Longitud  \\\n",
       "0  Director: Dr. Enrique Garduño Salvador Direcci...  19.480774 -99.103371   \n",
       "1  Dirección: Dr.Benjamín Ortega Romero Dirección...  19.200199 -99.011253   \n",
       "2  Director: Dr. Carlos Vazquez Noriega Dirección...  19.514547 -99.138245   \n",
       "3  Director: Dr. José Alfredo Jiménez Douglas Dir...  19.450987 -99.169189   \n",
       "4  Director: Dr. Benjamín Méndez Pinto Dirección:...  19.343451 -99.027863   \n",
       "\n",
       "                     Coordenadas              Geopoint  \n",
       "0  -99.103371,19.480774,0.000000  19.480774,-99.103371  \n",
       "1  -99.011253,19.200199,0.000000  19.200199,-99.011253  \n",
       "2  -99.138245,19.514547,0.000000  19.514547,-99.138245  \n",
       "3  -99.169189,19.450987,0.000000  19.450987,-99.169189  \n",
       "4  -99.027863,19.343451,0.000000  19.343451,-99.027863  "
      ]
     },
     "execution_count": 1,
     "metadata": {},
     "output_type": "execute_result"
    }
   ],
   "source": [
    "import pandas as pd\n",
    "\n",
    "df = pd.read_csv(\"hospitales-y-centros-de-salud.csv\")\n",
    "df.head()"
   ]
  },
  {
   "cell_type": "code",
   "execution_count": 2,
   "metadata": {},
   "outputs": [
    {
     "data": {
      "text/plain": [
       "(27, 6)"
      ]
     },
     "execution_count": 2,
     "metadata": {},
     "output_type": "execute_result"
    }
   ],
   "source": [
    "df.shape"
   ]
  },
  {
   "cell_type": "markdown",
   "metadata": {},
   "source": [
    "The dataset has 27 registered hospitals and healthcare centers available in Mexico City.\n",
    "\n",
    "It contains the following columns: \n",
    "\n",
    "1. Nombre (Name)\n",
    "2. Titular (Person in charge)\n",
    "3. Latitud (Latitude)\n",
    "4.Longitud (Longitude)\n",
    "5.Coordenadas (coordinates)\n",
    "6.Geopoint"
   ]
  },
  {
   "cell_type": "code",
   "execution_count": null,
   "metadata": {},
   "outputs": [],
   "source": []
  }
 ],
 "metadata": {
  "kernelspec": {
   "display_name": "Python 3",
   "language": "python",
   "name": "python3"
  },
  "language_info": {
   "codemirror_mode": {
    "name": "ipython",
    "version": 3
   },
   "file_extension": ".py",
   "mimetype": "text/x-python",
   "name": "python",
   "nbconvert_exporter": "python",
   "pygments_lexer": "ipython3",
   "version": "3.7.4"
  }
 },
 "nbformat": 4,
 "nbformat_minor": 4
}
